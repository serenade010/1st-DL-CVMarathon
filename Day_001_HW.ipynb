{
 "cells": [
  {
   "cell_type": "code",
   "execution_count": 4,
   "metadata": {},
   "outputs": [],
   "source": [
    "import numpy as np\n",
    "import matplotlib.pyplot as plt"
   ]
  },
  {
   "cell_type": "code",
   "execution_count": 5,
   "metadata": {},
   "outputs": [
    {
     "data": {
      "image/png": "[encoded data removed]",
      "text/plain": [
       "<Figure size 432x288 with 1 Axes>"
      ]
     },
     "metadata": {
      "needs_background": "light"
     },
     "output_type": "display_data"
    }
   ],
   "source": [
    "w = 3\n",
    "b = 0.5\n",
    "x_lin = np.linspace(0, 100, 101)\n",
    "y = (x_lin + np.random.randn(101) * 5) * w + b\n",
    "\n",
    "plt.plot(x_lin, y, 'b.', label = 'data points')\n",
    "plt.title(\"Assume we have data points\")\n",
    "plt.legend(loc = 2)\n",
    "plt.show()"
   ]
  },
  {
   "cell_type": "code",
   "execution_count": 8,
   "metadata": {},
   "outputs": [
    {
     "data": {
      "image/png": "[encoded data removed]",
      "text/plain": [
       "<Figure size 432x288 with 1 Axes>"
      ]
     },
     "metadata": {
      "needs_background": "light"
     },
     "output_type": "display_data"
    }
   ],
   "source": [
    "y_hat = x_lin * w + b\n",
    "plt.plot(x_lin, y, 'b.', label = 'data')\n",
    "plt.plot(x_lin, y_hat, 'r-', label = 'prediction')\n",
    "plt.title(\"Assume we have data points (And the prediction)\")\n",
    "plt.legend(loc = 2)\n",
    "plt.show()"
   ]
  },
  {
   "cell_type": "code",
   "execution_count": 14,
   "metadata": {},
   "outputs": [],
   "source": [
    "def mean_absolute_error(y, yp):\n",
    "    \"\"\"\n",
    "    計算 MAE\n",
    "    Args:\n",
    "        - y: 實際值\n",
    "        - yp: 預測值\n",
    "    Return:\n",
    "        - mae: MAE\n",
    "    \"\"\"\n",
    "    mae = MAE = sum(abs(y - yp)) / len(y)\n",
    "    return mae\n",
    "\n",
    "# 定義 mean_squared_error 這個函數, 計算並傳回 MSE\n",
    "def mean_squared_error(y, yp):\n",
    "    \"\"\"\n",
    "    請完成這個 Function 後往下執行\n",
    "    \"\"\"\n",
    "    mse =sum(pow(y - yp,2))/ len(y)\n",
    "    return mse"
   ]
  },
  {
   "cell_type": "code",
   "execution_count": 15,
   "metadata": {},
   "outputs": [
    {
     "name": "stdout",
     "output_type": "stream",
     "text": [
      "The Mean squared error is 252.525\n",
      "The Mean absolute error is 13.062\n"
     ]
    }
   ],
   "source": [
    "MSE = mean_squared_error(y, y_hat)\n",
    "MAE = mean_absolute_error(y, y_hat)\n",
    "print(\"The Mean squared error is %.3f\" % (MSE))\n",
    "print(\"The Mean absolute error is %.3f\" % (MAE))"
   ]
  },
  {
   "cell_type": "code",
   "execution_count": 16,
   "metadata": {
    "scrolled": true
   },
   "outputs": [
    {
     "data": {
      "text/plain": [
       "'\\n作業二\\n(Titanic: Machine Learning from Disaster)\\n你選的這組資料為何重要:\\n    可以幫助我們了解過去在鐵達尼號到底發生了什麼世人還不知道的事\\n\\n資料從何而來 (tips: 譬如提供者是誰、以什麼方式蒐集)：\\n    提供者應該是政府加上名間調查集團，在那個年代應該是以人力來完成搜集的工作。\\n\\n蒐集而來的資料型態為何：\\n    csv\\n\\n這組資料想解決的問題如何評估:\\n（想要推測每一位乘客生存的機率）\\n    從以下幾點\\n    1.乘客年齡和性別\\n    2.客房位置（離甲板遠近）\\n    3.獨自一人或攜家帶眷\\n    \\n    \\n    \\n    \\n作業三\\n核心問題為何 (tips：如何定義 「提升業績 & 你的假設」)\\n    提升業績：單週載客數量\\n    假設：透過投放廣告來完成\\n    \\n\\n資料從何而來 (tips：哪些資料可能會對你想問的問題產生影響 & 資料如何蒐集)\\n    民眾對廣告的接受度\\n    民調\\n\\n蒐集而來的資料型態為何\\n    多維的陣列\\n\\n你要回答的問題，其如何評估 (tips：你的假設如何驗證)\\n    廣告投放數量對顧客數量做圖\\n'"
      ]
     },
     "execution_count": 16,
     "metadata": {},
     "output_type": "execute_result"
    }
   ],
   "source": [
    "\"\"\"\n",
    "作業二\n",
    "(Titanic: Machine Learning from Disaster)\n",
    "你選的這組資料為何重要:\n",
    "    可以幫助我們了解過去在鐵達尼號到底發生了什麼世人還不知道的事\n",
    "\n",
    "資料從何而來 (tips: 譬如提供者是誰、以什麼方式蒐集)：\n",
    "    提供者應該是政府加上名間調查集團，在那個年代應該是以人力來完成搜集的工作。\n",
    "\n",
    "蒐集而來的資料型態為何：\n",
    "    csv\n",
    "\n",
    "這組資料想解決的問題如何評估:\n",
    "（想要推測每一位乘客生存的機率）\n",
    "    從以下幾點\n",
    "    1.乘客年齡和性別\n",
    "    2.客房位置（離甲板遠近）\n",
    "    3.獨自一人或攜家帶眷\n",
    "    \n",
    "    \n",
    "    \n",
    "    \n",
    "作業三\n",
    "核心問題為何 (tips：如何定義 「提升業績 & 你的假設」)\n",
    "    提升業績：單週載客數量\n",
    "    假設：透過投放廣告來完成\n",
    "    \n",
    "\n",
    "資料從何而來 (tips：哪些資料可能會對你想問的問題產生影響 & 資料如何蒐集)\n",
    "    民眾對廣告的接受度\n",
    "    民調\n",
    "\n",
    "蒐集而來的資料型態為何\n",
    "    多維的陣列\n",
    "\n",
    "你要回答的問題，其如何評估 (tips：你的假設如何驗證)\n",
    "    廣告投放數量對顧客數量做圖\n",
    "\"\"\"\n"
   ]
  },
  {
   "cell_type": "code",
   "execution_count": null,
   "metadata": {},
   "outputs": [],
   "source": []
  },
  {
   "cell_type": "code",
   "execution_count": null,
   "metadata": {},
   "outputs": [],
   "source": []
  },
  {
   "cell_type": "code",
   "execution_count": null,
   "metadata": {},
   "outputs": [],
   "source": []
  }
 ],
 "metadata": {
  "kernelspec": {
   "display_name": "Python 3",
   "language": "python",
   "name": "python3"
  },
  "language_info": {
   "codemirror_mode": {
    "name": "ipython",
    "version": 3
   },
   "file_extension": ".py",
   "mimetype": "text/x-python",
   "name": "python",
   "nbconvert_exporter": "python",
   "pygments_lexer": "ipython3",
   "version": "3.8.3"
  }
 },
 "nbformat": 4,
 "nbformat_minor": 4
}
